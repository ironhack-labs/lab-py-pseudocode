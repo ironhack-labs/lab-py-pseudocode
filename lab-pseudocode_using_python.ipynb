{
 "cells": [
  {
   "cell_type": "markdown",
   "metadata": {},
   "source": [
    "# LAB | Pseudocode Using Python\n",
    "\n",
    "## Overview\n",
    "\n",
    "This exercise will help you practice writing pseudocode and translating it into Python code. Pseudocode is a way to describe algorithms in a human-readable format, which can then be implemented in programming languages.\n",
    "\n"
   ]
  },
  {
   "cell_type": "markdown",
   "metadata": {},
   "source": [
    "### Exercise 1: Multiply Two Numbers\n",
    "\n",
    "Write a pseudocode to read two numbers and multiply them together. Then, write the equivalent Python code."
   ]
  },
  {
   "cell_type": "markdown",
   "metadata": {},
   "source": [
    "<!-- Add your pseudocode here -->"
   ]
  },
  {
   "cell_type": "markdown",
   "metadata": {},
   "source": [
    "# Add your code solution here\n",
    "1. Ask a user for number1 und number2\n",
    "2. Check if both inputs are numbers. If not, ask the user for another input\n",
    "3. define a variable that equals number1 * number2\n",
    "4. Output the result\n"
   ]
  },
  {
   "cell_type": "code",
   "execution_count": 2,
   "metadata": {},
   "outputs": [
    {
     "name": "stdout",
     "output_type": "stream",
     "text": [
      "Both inputs must be numbers. Please try again.\n",
      "Both inputs must be numbers. Please try again.\n",
      "The result of multiplying 5 and 7 is 35\n"
     ]
    }
   ],
   "source": [
    "# Step 1: Ask the user for number1 and number2\n",
    "number1 = input(\"Enter the first number: \")\n",
    "number2 = input(\"Enter the second number: \")\n",
    "\n",
    "# Step 2: Check if both inputs are numbers\n",
    "while not (number1.isdigit() and number2.isdigit()):\n",
    "    print(\"Both inputs must be numbers. Please try again.\")\n",
    "    number1 = input(\"Enter the first number: \")\n",
    "    number2 = input(\"Enter the second number: \")\n",
    "\n",
    "# Convert inputs to integers\n",
    "number1 = int(number1)\n",
    "number2 = int(number2)\n",
    "\n",
    "# Step 3: Define a variable that equals number1 * number2\n",
    "result = number1 * number2\n",
    "\n",
    "# Step 4: Output the result\n",
    "print(\"The result of multiplying\", number1, \"and\", number2, \"is\", result)"
   ]
  },
  {
   "cell_type": "markdown",
   "metadata": {},
   "source": [
    "### Exercise 2: Check Even or Odd\n",
    "\n",
    "Write pseudocode that checks if a number is even or odd and prints the result. Then, write the equivalent Python code."
   ]
  },
  {
   "cell_type": "markdown",
   "metadata": {},
   "source": [
    "<!-- Add your pseudocode here -->"
   ]
  },
  {
   "cell_type": "markdown",
   "metadata": {},
   "source": [
    "# Add your code solution here\n",
    "1. Ask the user for a number.\n",
    "2. Check if the input is a number. If not, ask the user for another input.\n",
    "3. If the remainder of dividing the number by 2 is 0, output \"even\"; otherwise, output \"odd\"."
   ]
  },
  {
   "cell_type": "code",
   "execution_count": 12,
   "metadata": {},
   "outputs": [
    {
     "name": "stdout",
     "output_type": "stream",
     "text": [
      "The input must be a number. Please try again.\n",
      "The number -10 is even.\n"
     ]
    }
   ],
   "source": [
    " #Step 1: Ask the user for a number\n",
    "number = input(\"Enter a number: \")\n",
    "\n",
    "# Step 2: Check if the input is a number\n",
    "while not (number.lstrip('-').isdigit()):\n",
    "    print(\"The input must be a number. Please try again.\")\n",
    "    number = input(\"Enter a number: \")\n",
    "\n",
    "# Convert input to an integer\n",
    "number = int(number)\n",
    "\n",
    "# Step 3: Check if the remainder of dividing the number by 2 is 0\n",
    "if number % 2 == 0:\n",
    "    print(\"The number\", number, \"is even.\")\n",
    "else:\n",
    "    print(\"The number\", number, \"is odd.\")"
   ]
  },
  {
   "cell_type": "markdown",
   "metadata": {},
   "source": [
    "### Exercise 3: Sum of First N Natural Numbers\n",
    "\n",
    "Write pseudocode to calculate the sum of the first N natural numbers. Then, write the equivalent Python code."
   ]
  },
  {
   "cell_type": "markdown",
   "metadata": {},
   "source": [
    "<!-- Add your pseudocode here -->"
   ]
  },
  {
   "cell_type": "markdown",
   "metadata": {},
   "source": [
    "# Add your code solution here\n",
    "1. Ask the user for a number.\n",
    "2. Check if the input is a valid positive integer. If not, ask the user for another input.\n",
    "3. Initialize a variable sum to 0.\n",
    "4. Use a loop to iterate from 1 to N (inclusive) and add each number to sum.\n",
    "5. Output the result."
   ]
  },
  {
   "cell_type": "code",
   "execution_count": 15,
   "metadata": {},
   "outputs": [
    {
     "name": "stdout",
     "output_type": "stream",
     "text": [
      "The input must be a valid positive integer. Please try again.\n",
      "The input must be a valid positive integer. Please try again.\n",
      "The input must be a valid positive integer. Please try again.\n",
      "The input must be a valid positive integer. Please try again.\n",
      "The sum of the first 9 natural numbers is 45\n"
     ]
    }
   ],
   "source": [
    "# Step 1: Ask the user for a number\n",
    "number = input(\"Enter a positive integer: \")\n",
    "\n",
    "# Step 2: Check if the input is a valid positive integer\n",
    "while not (number.isdigit() and int(number) > 0):\n",
    "    print(\"The input must be a valid positive integer. Please try again.\")\n",
    "    number = input(\"Enter a positive integer: \")\n",
    "\n",
    "# Convert input to an integer\n",
    "number = int(number)\n",
    "\n",
    "# Step 3: Initialize a variable sum to 0\n",
    "sum_ = 0\n",
    "\n",
    "# Step 4: Use a loop to iterate from 1 to N (inclusive) and add each number to sum\n",
    "for i in range(1, number + 1):\n",
    "    sum_ += i\n",
    "\n",
    "# Step 5: Output the result\n",
    "print(\"The sum of the first\", number, \"natural numbers is\", sum_)"
   ]
  },
  {
   "cell_type": "markdown",
   "metadata": {},
   "source": [
    "### Exercise 4: Find Maximum of Three Numbers\n",
    "\n",
    "Write pseudocode that finds the maximum of three numbers entered by the user. Then, write the equivalent Python code."
   ]
  },
  {
   "cell_type": "markdown",
   "metadata": {},
   "source": [
    "<!-- Add your pseudocode here -->"
   ]
  },
  {
   "cell_type": "markdown",
   "metadata": {},
   "source": [
    "# Add your code solution here\n",
    "1. Ask the user for three numbers: number1, number2, and number3.\n",
    "2. Check if the inputs are valid numbers. If not, ask the user for another input.\n",
    "3. Compare the three numbers to find the maximum:\n",
    "4. Initialize a variable maximum and set it to number1.\n",
    "5. If number2 is greater than maximum, update maximum to number2.\n",
    "6. If number3 is greater than maximum, update maximum to number3.\n",
    "7. Output the maximum number."
   ]
  },
  {
   "cell_type": "code",
   "execution_count": 24,
   "metadata": {},
   "outputs": [
    {
     "name": "stdout",
     "output_type": "stream",
     "text": [
      "The maximum of -84.0, 9.447 and 5.0 is 9.447\n"
     ]
    }
   ],
   "source": [
    "# Step 1: Ask the user for three numbers\n",
    "number1 = input(\"Enter the first number: \")\n",
    "number2 = input(\"Enter the second number: \")\n",
    "number3 = input(\"Enter the third number: \")\n",
    "\n",
    "# Step 2: Check if the inputs are valid numbers (including floats)\n",
    "def is_float(num):\n",
    "    try:\n",
    "        float(num)\n",
    "        return True\n",
    "    except ValueError:\n",
    "        return False\n",
    "\n",
    "while not (is_float(number1) and is_float(number2) and is_float(number3)):\n",
    "    print(\"All inputs must be valid numbers. Please try again.\")\n",
    "    number1 = input(\"Enter the first number: \")\n",
    "    number2 = input(\"Enter the second number: \")\n",
    "    number3 = input(\"Enter the third number: \")\n",
    "\n",
    "# Convert inputs to floats\n",
    "number1 = float(number1)\n",
    "number2 = float(number2)\n",
    "number3 = float(number3)\n",
    "\n",
    "# Step 3: Compare the three numbers to find the maximum\n",
    "maximum = number1  # Initialize maximum to number1\n",
    "if number2 > maximum:\n",
    "    maximum = number2  # Update maximum if number2 is greater\n",
    "if number3 > maximum:\n",
    "    maximum = number3  # Update maximum if number3 is greater\n",
    "\n",
    "# Step 4: Output the maximum number\n",
    "print(f\"The maximum of {number1}, {number2} and {number3} is {maximum}\")\n"
   ]
  },
  {
   "cell_type": "markdown",
   "metadata": {},
   "source": [
    "### Exercise 5: Count Vowels in a String\n",
    "\n",
    "Write pseudocode to count the number of vowels in a given string and print the count. Then, write the equivalent Python code."
   ]
  },
  {
   "cell_type": "markdown",
   "metadata": {},
   "source": [
    "<!-- Add your pseudocode here -->"
   ]
  },
  {
   "cell_type": "markdown",
   "metadata": {},
   "source": [
    "# Add your code solution here\n",
    "1. Ask the user for a string.\n",
    "2. Initialize a variable vowel_count to 0.\n",
    "3. Loop through each character in the string:\n",
    "4. If the character is a vowel (a, e, i, o, u), increment vowel_count by 1.\n",
    "5. Output the vowel_count."
   ]
  },
  {
   "cell_type": "code",
   "execution_count": null,
   "metadata": {},
   "outputs": [],
   "source": [
    "# Step 1: Ask the user for a string\n",
    "user_string = input(\"Enter a string: \")\n",
    "\n",
    "# Step 2: Initialize a variable vowel_count to 0\n",
    "vowel_count = 0\n",
    "\n",
    "# Step 3: Loop through each character in the string\n",
    "for char in user_string:\n",
    "    if char.lower() in 'aeiou':  # Check if the character is a vowel\n",
    "        vowel_count += 1\n",
    "\n",
    "# Step 4: Output the vowel_count\n",
    "print(\"The number of vowels in the string is\", vowel_count)\n"
   ]
  },
  {
   "cell_type": "markdown",
   "metadata": {},
   "source": [
    "## Bonus Exercises\n",
    "\n",
    "### Bonus Exercise 6: Reverse a String\n",
    "\n",
    "Write pseudocode to reverse a given string and print it out."
   ]
  },
  {
   "cell_type": "markdown",
   "metadata": {},
   "source": [
    "<!-- Add your pseudocode here -->"
   ]
  },
  {
   "cell_type": "markdown",
   "metadata": {},
   "source": [
    "# Add your code solution here\n",
    "1. Ask the user for a string.\n",
    "2. Output the reversed string using split [::-1]."
   ]
  },
  {
   "cell_type": "code",
   "execution_count": 26,
   "metadata": {},
   "outputs": [
    {
     "name": "stdout",
     "output_type": "stream",
     "text": [
      "The reversed string is: 6543210ihgfedcba\n"
     ]
    }
   ],
   "source": [
    "# Step 1: Ask the user for a string\n",
    "user_string = input(\"Enter a string: \")\n",
    "\n",
    "# Step 2: Output the reversed string using slicing [::-1]\n",
    "user_string = user_string[::-1]\n",
    "\n",
    "print(\"The reversed string is:\", user_string)"
   ]
  },
  {
   "cell_type": "markdown",
   "metadata": {},
   "source": [
    "### Bonus Exercise 7: Print Multiplication Table of a Number\n",
    "\n",
    "Write pseudocode to print the multiplication table of a given number up to 10."
   ]
  },
  {
   "cell_type": "markdown",
   "metadata": {},
   "source": [
    "<!-- Add your pseudocode here -->"
   ]
  },
  {
   "cell_type": "code",
   "execution_count": null,
   "metadata": {},
   "outputs": [],
   "source": [
    "# Add your code solution here"
   ]
  },
  {
   "cell_type": "markdown",
   "metadata": {},
   "source": [
    "### Bonus Exercise 8: Count Words in a String\n",
    "\n",
    "Write pseudocode that counts the words in a given string and prints the result."
   ]
  },
  {
   "cell_type": "markdown",
   "metadata": {},
   "source": [
    "<!-- Add your pseudocode here -->"
   ]
  },
  {
   "cell_type": "code",
   "execution_count": 46,
   "metadata": {},
   "outputs": [],
   "source": [
    "# Add your code solution here"
   ]
  },
  {
   "cell_type": "markdown",
   "metadata": {},
   "source": [
    "### Bonus Exercise 9: Find Factorial of a Number\n",
    "\n",
    "Write pseudocode that calculates the factorial of a given positive integer."
   ]
  },
  {
   "cell_type": "markdown",
   "metadata": {},
   "source": [
    "<!-- Add your pseudocode here -->"
   ]
  },
  {
   "cell_type": "code",
   "execution_count": null,
   "metadata": {},
   "outputs": [],
   "source": [
    "# Add your code solution here"
   ]
  },
  {
   "cell_type": "markdown",
   "metadata": {},
   "source": [
    "### Bonus Exercise 10: FizzBuzz Problem\n",
    "\n",
    "Write pseudocode for the FizzBuzz problem where you print numbers from 1 to N but replace multiples of three with \"Fizz\" and multiples of five with \"Buzz\"."
   ]
  },
  {
   "cell_type": "markdown",
   "metadata": {},
   "source": [
    "<!-- Add your pseudocode here -->"
   ]
  },
  {
   "cell_type": "markdown",
   "metadata": {},
   "source": [
    "# Add your code solution here\n",
    "1. Ask the user for a number number.\n",
    "2. Check if the input is a valid integer greater than 1. If not, ask the user for another input.\n",
    "3. For each number from 1 to number:\n",
    " 3.1 If the number is divisible by 3, print \"Fizz\".\n",
    " 3.2 If the number is divisible by 5, print \"Buzz\".\n",
    " 3.3 If the number is divisible by both 3 and 5, print \"FizzBuzz\".\n",
    " 3.4 Otherwise, print the number."
   ]
  },
  {
   "cell_type": "code",
   "execution_count": 28,
   "metadata": {},
   "outputs": [
    {
     "name": "stdout",
     "output_type": "stream",
     "text": [
      "The input must be an integer greater than 1. Please try again.\n",
      "The input must be an integer greater than 1. Please try again.\n",
      "1\n",
      "2\n",
      "Fizz\n",
      "4\n",
      "Buzz\n",
      "Fizz\n",
      "7\n",
      "8\n",
      "Fizz\n",
      "Buzz\n",
      "11\n",
      "Fizz\n",
      "13\n",
      "14\n",
      "FizzBuzz\n",
      "16\n",
      "17\n",
      "Fizz\n",
      "19\n",
      "Buzz\n",
      "Fizz\n",
      "22\n",
      "23\n",
      "Fizz\n",
      "Buzz\n"
     ]
    }
   ],
   "source": [
    "# Step 1: Ask the user for a number\n",
    "number = input(\"Enter an integer greater than 1: \")\n",
    "\n",
    "# Step 2: Check if the input is a valid integer greater than 1\n",
    "while not (number.isdigit() and int(number) > 1):\n",
    "    print(\"The input must be an integer greater than 1. Please try again.\")\n",
    "    number = input(\"Enter an integer greater than 1: \")\n",
    "\n",
    "# Convert the input to an integer\n",
    "number = int(number)\n",
    "\n",
    "# Step 3: For each number from 1 to number\n",
    "for i in range(1, number + 1):\n",
    "    if i % 3 == 0 and i % 5 == 0:\n",
    "        print(\"FizzBuzz\")\n",
    "    elif i % 3 == 0:\n",
    "        print(\"Fizz\")\n",
    "    elif i % 5 == 0:\n",
    "        print(\"Buzz\")\n",
    "    else:\n",
    "        print(i)\n"
   ]
  }
 ],
 "metadata": {
  "kernelspec": {
   "display_name": "Python 3",
   "language": "python",
   "name": "python3"
  },
  "language_info": {
   "codemirror_mode": {
    "name": "ipython",
    "version": 3
   },
   "file_extension": ".py",
   "mimetype": "text/x-python",
   "name": "python",
   "nbconvert_exporter": "python",
   "pygments_lexer": "ipython3",
   "version": "3.13.1"
  }
 },
 "nbformat": 4,
 "nbformat_minor": 2
}
