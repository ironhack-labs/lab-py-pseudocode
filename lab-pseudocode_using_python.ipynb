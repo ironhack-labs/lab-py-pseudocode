{
 "cells": [
  {
   "cell_type": "markdown",
   "metadata": {},
   "source": [
    "# LAB | Pseudocode Using Python\n",
    "\n",
    "## Overview\n",
    "\n",
    "This exercise will help you practice writing pseudocode and translating it into Python code. Pseudocode is a way to describe algorithms in a human-readable format, which can then be implemented in programming languages.\n",
    "\n"
   ]
  },
  {
   "cell_type": "markdown",
   "metadata": {},
   "source": [
    "### Exercise 1: Multiply Two Numbers\n",
    "\n",
    "Write a pseudocode to read two numbers and multiply them together. Then, write the equivalent Python code."
   ]
  },
  {
   "cell_type": "markdown",
   "metadata": {},
   "source": [
    "<!-- Add your pseudocode here -->"
   ]
  },
  {
   "cell_type": "code",
   "execution_count": 9,
   "metadata": {},
   "outputs": [],
   "source": [
    "#Step1: Reading the two input numbers from the user.\n",
    "       #Read number 1\n",
    "       #Read number 2\n",
    "#Step2: Check if the inputs are numbers.\n",
    "#Step2: Convert the input numbers from string to integer.\n",
    "#Step 2: Calculate the product by multipying the numbers by eachother.\n",
    "       #Product= (first number * second number)\n",
    "\n",
    "#Step 3: Display Product"
   ]
  },
  {
   "cell_type": "code",
   "execution_count": 10,
   "metadata": {},
   "outputs": [
    {
     "name": "stdout",
     "output_type": "stream",
     "text": [
      "2\n",
      "5\n",
      "The product is: 10.\n"
     ]
    }
   ],
   "source": [
    "number1 = input(\"Enter the first number\")\n",
    "number2 = input(\"Enter the second number\")\n",
    "while not (number1.isdigit() and number2.isdigit()):\n",
    "    print(\"Invalid input, Enter a valid number.\")\n",
    "    number1 = input(\"Enter the first number\")\n",
    "    number2 = input(\"Enter the second number\")\n",
    "\n",
    "number1 = int(number1)\n",
    "number2 = int(number2)\n",
    "product = number1 * number2\n",
    "print(number1)\n",
    "print(number2)\n",
    "print(f\"The product is: {product}.\")"
   ]
  },
  {
   "cell_type": "markdown",
   "metadata": {},
   "source": [
    "### Exercise 2: Check Even or Odd\n",
    "\n",
    "Write pseudocode that checks if a number is even or odd and prints the result. Then, write the equivalent Python code."
   ]
  },
  {
   "cell_type": "markdown",
   "metadata": {},
   "source": [
    "<!-- Add your pseudocode here -->"
   ]
  },
  {
   "cell_type": "code",
   "execution_count": null,
   "metadata": {},
   "outputs": [],
   "source": [
    "# Step 1: Read the input number from the user.\n",
    "# Step 2: Check if the input is a number.\n",
    "# Step 3: Convert the input number from string to integer.\n",
    "# Step 4: Calculate the remainder using Modulus operation for the input number by 2.\n",
    "# Step 5: If the remainder eqauls to 0 display even, otherwise display odd."
   ]
  },
  {
   "cell_type": "code",
   "execution_count": 11,
   "metadata": {},
   "outputs": [
    {
     "name": "stdout",
     "output_type": "stream",
     "text": [
      "5\n",
      "The input number is odd.\n"
     ]
    }
   ],
   "source": [
    "input_number=input(\"Enter a number\")\n",
    "while not input_number.isdigit():\n",
    "    print(\"Invalid input, Please enter a valid number.\")\n",
    "    input_number=input(\"Enter a number\")\n",
    "input_number = int(input_number)\n",
    "print(input_number)\n",
    "if input_number % 2 == 0:\n",
    "    print(f\"The input number is even.\")\n",
    "else:\n",
    "    print(f\"The input number is odd.\")"
   ]
  },
  {
   "cell_type": "markdown",
   "metadata": {},
   "source": [
    "### Exercise 3: Sum of First N Natural Numbers\n",
    "\n",
    "Write pseudocode to calculate the sum of the first N natural numbers. Then, write the equivalent Python code."
   ]
  },
  {
   "cell_type": "markdown",
   "metadata": {},
   "source": [
    "<!-- Add your pseudocode here -->"
   ]
  },
  {
   "cell_type": "code",
   "execution_count": null,
   "metadata": {},
   "outputs": [],
   "source": [
    "# Step 1: Read the N from the user.\n",
    "# Step 2: Check if the input is a number.\n",
    "# Step 3: Convert N from string to integer.\n",
    "# Step 4: Set sum to 0.\n",
    "         # Use FOR Loop to loop from 1 to N.\n",
    "         # The add each number to sum.\n",
    "# Step 5: Display sum."
   ]
  },
  {
   "cell_type": "code",
   "execution_count": 12,
   "metadata": {},
   "outputs": [
    {
     "name": "stdout",
     "output_type": "stream",
     "text": [
      "The sum of the first 5 natural numbers is 15.\n"
     ]
    }
   ],
   "source": [
    "N=input(\"Enter a number:\")\n",
    "while not N.isdigit():\n",
    "    print(\"Invalid input, Please enter a valid number.\")\n",
    "    N=input(\"Enter a number\")\n",
    "N = int(N)\n",
    "total_sum= 0\n",
    "for num in range(1, N + 1):\n",
    "    total_sum +=num\n",
    "print(f\"The sum of the first {N} natural numbers is {total_sum}.\")"
   ]
  },
  {
   "cell_type": "markdown",
   "metadata": {},
   "source": [
    "### Exercise 4: Find Maximum of Three Numbers\n",
    "\n",
    "Write pseudocode that finds the maximum of three numbers entered by the user. Then, write the equivalent Python code."
   ]
  },
  {
   "cell_type": "markdown",
   "metadata": {},
   "source": [
    "<!-- Add your pseudocode here -->"
   ]
  },
  {
   "cell_type": "code",
   "execution_count": 13,
   "metadata": {},
   "outputs": [],
   "source": [
    "# Step 1: Read the three input numbers from the user.\n",
    "# Step 2: Check if the inputs are numbers, they could be floats as well.\n",
    "# Step 2: Convert the input numbers from string to float.\n",
    "# Step 3: Set the maximum to the first input number.\n",
    "        # Compare the second number with maximum using if statement.\n",
    "        # If second number is greater set maximum to second number.\n",
    "        # Compare the third number with maximum using if statement.\n",
    "        # If third number is greater set maximum to third number.\n",
    "#Step 4: Display Maximum"
   ]
  },
  {
   "cell_type": "code",
   "execution_count": 14,
   "metadata": {},
   "outputs": [
    {
     "name": "stdout",
     "output_type": "stream",
     "text": [
      "3\n",
      "6\n",
      "9\n",
      "The maximum number is: 9.\n"
     ]
    }
   ],
   "source": [
    "number1=input(\"Enter first number\")\n",
    "number2=input(\"Enter second number\")\n",
    "number3=input(\"Enter third number\")\n",
    "\n",
    "def is_float(i):\n",
    "    try:\n",
    "       float(i)\n",
    "       return True\n",
    "    except ValueError:\n",
    "       return False\n",
    "\n",
    "while not (is_float(number1) and is_float(number2) and is_float(number3)):\n",
    "   print(\"Input invalid, please enter a valid number.\")\n",
    "   number1=input(\"Enter first number\")\n",
    "   number2=input(\"Enter second number\")\n",
    "   number3=input(\"Enter third number\")\n",
    "\n",
    "number1=int(number1)\n",
    "number2=int(number2)\n",
    "number3=int(number3)\n",
    "max_number=number1\n",
    "if number2 > max_number:\n",
    "   max_number=number2\n",
    "if number3 > max_number:\n",
    "   max_number=number3\n",
    "\n",
    "print(number1)\n",
    "print(number2)\n",
    "print(number3)\n",
    "print(f\"The maximum number is: {max_number}.\")"
   ]
  },
  {
   "cell_type": "markdown",
   "metadata": {},
   "source": [
    "### Exercise 5: Count Vowels in a String\n",
    "\n",
    "Write pseudocode to count the number of vowels in a given string and print the count. Then, write the equivalent Python code."
   ]
  },
  {
   "cell_type": "markdown",
   "metadata": {},
   "source": [
    "<!-- Add your pseudocode here -->"
   ]
  },
  {
   "cell_type": "code",
   "execution_count": null,
   "metadata": {},
   "outputs": [],
   "source": [
    "# Step 1: Read the input string from the user.\n",
    "# Step 2: Convert the string to the lowercase to take care of both upper and lowercase vowels.\n",
    "# Step 3: Set vowel count to 0.\n",
    "          # Loop each character in the string.\n",
    "          # If any character matches a vowel, add it to the vowel count.\n",
    "# Display Number of vowels."
   ]
  },
  {
   "cell_type": "code",
   "execution_count": 18,
   "metadata": {},
   "outputs": [
    {
     "name": "stdout",
     "output_type": "stream",
     "text": [
      "holiday\n",
      "The number of vowels in the string is 3.\n"
     ]
    }
   ],
   "source": [
    "user_input = input(\"Enter a string\").lower()\n",
    "vowel_count = 0\n",
    "print(user_input)\n",
    "for char in user_input:\n",
    "    if char in \"aeiou\":\n",
    "        vowel_count += 1\n",
    "print(f\"The number of vowels in the string is {vowel_count}.\")"
   ]
  },
  {
   "cell_type": "markdown",
   "metadata": {},
   "source": [
    "## Bonus Exercises\n",
    "\n",
    "### Bonus Exercise 6: Reverse a String\n",
    "\n",
    "Write pseudocode to reverse a given string and print it out."
   ]
  },
  {
   "cell_type": "markdown",
   "metadata": {},
   "source": [
    "<!-- Add your pseudocode here -->"
   ]
  },
  {
   "cell_type": "code",
   "execution_count": null,
   "metadata": {},
   "outputs": [],
   "source": [
    "# step 1: Read the input string from the user.\n",
    "# Step 2: Set reversed string to input string from end to start using slicing or.\n",
    "          # Set the reversed input to empty string and add each charcter to it using FOR Loop form last to first characters in the user input.\n",
    "# Step 4: Display reversed string."
   ]
  },
  {
   "cell_type": "code",
   "execution_count": 21,
   "metadata": {},
   "outputs": [
    {
     "name": "stdout",
     "output_type": "stream",
     "text": [
      "Original input: Hello\n",
      "Reversed string: olleH\n"
     ]
    }
   ],
   "source": [
    "user_input=input(\"Enter a string\")\n",
    "print(f\"Original input: {user_input}\")\n",
    "reversed_string=user_input[::-1]\n",
    "print(f\"Reversed string: {reversed_string}\")"
   ]
  },
  {
   "cell_type": "code",
   "execution_count": 22,
   "metadata": {},
   "outputs": [
    {
     "name": "stdout",
     "output_type": "stream",
     "text": [
      "Original input: Monday\n",
      "Reverserd string: yadnoM\n"
     ]
    }
   ],
   "source": [
    "user_input=input(\"Enter a string\")\n",
    "print(f\"Original input: {user_input}\")\n",
    "reversed_input= \"\"\n",
    "for char in user_input:\n",
    "    reversed_input =char+reversed_input\n",
    "print(f\"Reverserd string: {reversed_input}\")"
   ]
  },
  {
   "cell_type": "markdown",
   "metadata": {},
   "source": [
    "### Bonus Exercise 7: Print Multiplication Table of a Number\n",
    "\n",
    "Write pseudocode to print the multiplication table of a given number up to 10."
   ]
  },
  {
   "cell_type": "markdown",
   "metadata": {},
   "source": [
    "<!-- Add your pseudocode here -->"
   ]
  },
  {
   "cell_type": "code",
   "execution_count": 23,
   "metadata": {},
   "outputs": [],
   "source": [
    "# Step 1: Loop to ask for input until user provides a valid input.\n",
    "          # Read input number from the user.\n",
    "          # Check if the input is a valid number.     \n",
    "#Step 2: Convert the input number from string to integer.\n",
    "#Step 3: Loop through the numbers from 1 to 10.\n",
    "          # Multiply the input number by the loop number.\n",
    "          # Set the result to user input multiped by numbers from 1 to 10.\n",
    "#Step 4: Display the result in multiplication table."
   ]
  },
  {
   "cell_type": "code",
   "execution_count": 24,
   "metadata": {},
   "outputs": [
    {
     "name": "stdout",
     "output_type": "stream",
     "text": [
      "Multiplication Table for user input number: 5\n",
      "5 x 1 = 5\n",
      "5 x 2 = 10\n",
      "5 x 3 = 15\n",
      "5 x 4 = 20\n",
      "5 x 5 = 25\n",
      "5 x 6 = 30\n",
      "5 x 7 = 35\n",
      "5 x 8 = 40\n",
      "5 x 9 = 45\n",
      "5 x 10 = 50\n"
     ]
    }
   ],
   "source": [
    "user_input=input(\"Enter a number:\")\n",
    "                 \n",
    "while not user_input.isdigit():\n",
    "    print(\"Invalid input, Please enter a valid number.\")\n",
    "    user_input=input(\"Enter a number\")\n",
    "\n",
    "user_input=int(user_input)\n",
    "print(f\"Multiplication Table for user input number: {user_input}\")\n",
    "for num in range(1, 11):\n",
    "    result=user_input*num\n",
    "    print(f\"{user_input} x {num} = {result}\")  "
   ]
  },
  {
   "cell_type": "markdown",
   "metadata": {},
   "source": [
    "### Bonus Exercise 8: Count Words in a String\n",
    "\n",
    "Write pseudocode that counts the words in a given string and prints the result."
   ]
  },
  {
   "cell_type": "markdown",
   "metadata": {},
   "source": [
    "<!-- Add your pseudocode here -->"
   ]
  },
  {
   "cell_type": "code",
   "execution_count": 46,
   "metadata": {},
   "outputs": [],
   "source": [
    "# Step 1: Read the input string from the user.\n",
    "# Step 2: Convert the string to the lowercase to take care of both upper and lowercase characters.\n",
    "# Step 3: Use split function the split the input string into words. \n",
    "# Step 4: Set words_count to lenght of the words list.\n",
    "# Step 5: Display number of words."
   ]
  },
  {
   "cell_type": "code",
   "execution_count": 25,
   "metadata": {},
   "outputs": [
    {
     "name": "stdout",
     "output_type": "stream",
     "text": [
      "['today', 'we', 'had', 'a', 'nice', 'theory', 'session.']\n",
      "Number of words in the string is 7\n"
     ]
    }
   ],
   "source": [
    "user_string=input(\"Enter a string\").lower()\n",
    "words=user_string.split()\n",
    "print(words)\n",
    "word_count=len(words)\n",
    "print(f\"Number of words in the string is {word_count}\")"
   ]
  },
  {
   "cell_type": "markdown",
   "metadata": {},
   "source": [
    "### Bonus Exercise 9: Find Factorial of a Number\n",
    "\n",
    "Write pseudocode that calculates the factorial of a given positive integer."
   ]
  },
  {
   "cell_type": "markdown",
   "metadata": {},
   "source": [
    "<!-- Add your pseudocode here -->"
   ]
  },
  {
   "cell_type": "code",
   "execution_count": null,
   "metadata": {},
   "outputs": [],
   "source": [
    "# Step 1: Read the input a number from the user.\n",
    "# Step 2: Check if the input number is valid.\n",
    "# Step 3: Conver the input number to an integer.\n",
    "# Step 4: Set result to 1.\n",
    "# Step 5: Loop through 1 to input number.\n",
    "#         #Multiply the result by the loop number.\n",
    "          # Result*loop number\n",
    "# Step 6: Display the factorial result."
   ]
  },
  {
   "cell_type": "code",
   "execution_count": 26,
   "metadata": {},
   "outputs": [
    {
     "name": "stdout",
     "output_type": "stream",
     "text": [
      "The factorial of 5 is 120. \n"
     ]
    }
   ],
   "source": [
    "user_input=input(\"Enter a positive integer\")\n",
    "while not user_input.isdigit() or int(user_input) <=0 :\n",
    "    print(\"Invalid input, please enter a valid positive integer.\")\n",
    "    user_input=input(\"Enter a positive integer\")\n",
    "\n",
    "user_input=int(user_input)\n",
    "\n",
    "result=1\n",
    "\n",
    "for i in range(1, user_input+1):\n",
    "    result*=i\n",
    "\n",
    "print(f\"The factorial of {user_input} is {result}. \")"
   ]
  },
  {
   "cell_type": "markdown",
   "metadata": {},
   "source": [
    "### Bonus Exercise 10: FizzBuzz Problem\n",
    "\n",
    "Write pseudocode for the FizzBuzz problem where you print numbers from 1 to N but replace multiples of three with \"Fizz\" and multiples of five with \"Buzz\"."
   ]
  },
  {
   "cell_type": "markdown",
   "metadata": {},
   "source": [
    "<!-- Add your pseudocode here -->"
   ]
  },
  {
   "cell_type": "code",
   "execution_count": 48,
   "metadata": {},
   "outputs": [],
   "source": [
    "# Step 1: Read input number from user.\n",
    "# Step 2: Check if the input number is valid.\n",
    "# Step 3: Convert input number to integer.\n",
    "# step 4: Loop through 1 to input number.\n",
    "# Step 5: Check if number is multiple of 3 and 5.\n",
    "          #Display FizzBuzz\n",
    "# Step 6: Check if the number is multiple of 3.\n",
    "          #Display Fizz.\n",
    "# Step 7: Check if the number is multiple of 5.\n",
    "          # Display Buzz.\n",
    "# Step 7:  If the number is not multiple of 3 or 5\n",
    "          # Display Number."
   ]
  },
  {
   "cell_type": "code",
   "execution_count": 27,
   "metadata": {},
   "outputs": [
    {
     "name": "stdout",
     "output_type": "stream",
     "text": [
      "1\n",
      "2\n",
      "Fizze\n",
      "4\n",
      "Buzz\n",
      "Fizze\n",
      "7\n",
      "8\n",
      "Fizze\n",
      "Buzz\n"
     ]
    }
   ],
   "source": [
    "N=input(\"Enter a number:\")\n",
    "while not N.isdigit():\n",
    "    print(\"Invalid input, Please enter a valid number.\")\n",
    "    N=input(\"Enter a number\")\n",
    "\n",
    "N = int(N)\n",
    "for i in range(1, N + 1):\n",
    "    if i % 3 == 0 and i % 5 ==0 :\n",
    "        print(\"FizzBuzz\")\n",
    "    elif i % 3 == 0:\n",
    "        print(\"Fizze\")\n",
    "    elif i % 5 == 0:\n",
    "        print(\"Buzz\")\n",
    "    else:\n",
    "        print(i)"
   ]
  }
 ],
 "metadata": {
  "kernelspec": {
   "display_name": ".venv",
   "language": "python",
   "name": "python3"
  },
  "language_info": {
   "codemirror_mode": {
    "name": "ipython",
    "version": 3
   },
   "file_extension": ".py",
   "mimetype": "text/x-python",
   "name": "python",
   "nbconvert_exporter": "python",
   "pygments_lexer": "ipython3",
   "version": "3.8.0"
  }
 },
 "nbformat": 4,
 "nbformat_minor": 2
}
